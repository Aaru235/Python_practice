{
  "nbformat": 4,
  "nbformat_minor": 0,
  "metadata": {
    "colab": {
      "name": "PythonExcercises.ipynb",
      "provenance": [],
      "collapsed_sections": [],
      "authorship_tag": "ABX9TyNwfNTswxBkgzgwgSHbJAye",
      "include_colab_link": true
    },
    "kernelspec": {
      "name": "python3",
      "display_name": "Python 3"
    },
    "language_info": {
      "name": "python"
    }
  },
  "cells": [
    {
      "cell_type": "markdown",
      "metadata": {
        "id": "view-in-github",
        "colab_type": "text"
      },
      "source": [
        "<a href=\"https://colab.research.google.com/github/Aaru235/Python_practice/blob/main/PythonExcercises.ipynb\" target=\"_parent\"><img src=\"https://colab.research.google.com/assets/colab-badge.svg\" alt=\"Open In Colab\"/></a>"
      ]
    },
    {
      "cell_type": "code",
      "metadata": {
        "colab": {
          "base_uri": "https://localhost:8080/"
        },
        "id": "1ZrXBXaUzqT5",
        "outputId": "0d025f74-48fe-42d1-d0b4-52d7ad6bb98f"
      },
      "source": [
        "HumanAge=input(\"Enter your age:\")"
      ],
      "execution_count": null,
      "outputs": [
        {
          "output_type": "stream",
          "text": [
            "Enter your age:20\n"
          ],
          "name": "stdout"
        }
      ]
    },
    {
      "cell_type": "code",
      "metadata": {
        "id": "Z32G-2ACz-KC"
      },
      "source": [
        "DogAge= int(HumanAge)*7"
      ],
      "execution_count": null,
      "outputs": []
    },
    {
      "cell_type": "code",
      "metadata": {
        "colab": {
          "base_uri": "https://localhost:8080/"
        },
        "id": "MFdENu4j0DwW",
        "outputId": "a1f78ff6-31f3-4031-f5cc-a10de15df023"
      },
      "source": [
        "print(DogAge)"
      ],
      "execution_count": null,
      "outputs": [
        {
          "output_type": "stream",
          "text": [
            "140\n"
          ],
          "name": "stdout"
        }
      ]
    },
    {
      "cell_type": "code",
      "metadata": {
        "colab": {
          "base_uri": "https://localhost:8080/"
        },
        "id": "qac9vGjl1xvh",
        "outputId": "0cbebfd9-f775-41db-d56d-6240bab9f789"
      },
      "source": [
        "print(\"a. Addition b. Subtraction c. Multiplication d. Division\")\n",
        "val=input(\"Enter option:\")\n",
        "one=input(\"first number:\")\n",
        "two=input(\"second number:\")\n",
        "if(val=='a'):\n",
        "    sum = int(one)+int(two)\n",
        "    print(sum)\n",
        "elif(val=='b'):\n",
        "    sub=int(one)-int(two)\n",
        "    print(sub)\n",
        "elif(mul):\n",
        "    mul=int(one)*int(two)\n",
        "    print(mul)\n",
        "else:\n",
        "    div=int(one)/int(two)\n",
        "    print(div)"
      ],
      "execution_count": null,
      "outputs": [
        {
          "output_type": "stream",
          "text": [
            "a. Addition b. Subtraction c. Multiplication d. Division\n",
            "Enter option:a\n",
            "first number:15\n",
            "second number:25\n",
            "40\n"
          ],
          "name": "stdout"
        }
      ]
    },
    {
      "cell_type": "code",
      "metadata": {
        "colab": {
          "base_uri": "https://localhost:8080/"
        },
        "id": "Q5kxNweIGYJY",
        "outputId": "cc65fddb-0ea4-45c7-f2fd-6a0ee834e9ea"
      },
      "source": [
        "name, age, bday, gender, college, hobby=input('''Enter name:\n",
        "   age:\n",
        "   birthdate:\n",
        "   gender:\n",
        "   College:\n",
        "   Hobbies:\n",
        "   ''').split()\n",
        "\n",
        "print(f''' \n",
        "   name:{name}\n",
        "   age:{age}\n",
        "   birthdate:{bday}\n",
        "   gender:{gender}\n",
        "   college:{college}\n",
        "   Hobbies:{hobby}''')\n"
      ],
      "execution_count": null,
      "outputs": [
        {
          "output_type": "stream",
          "text": [
            "Enter name:\n",
            "   age:\n",
            "   birthdate:\n",
            "   gender:\n",
            "   College:\n",
            "   Hobbies:\n",
            "   20 Amy 25may Girl Caltech study\n",
            " \n",
            "   name:20\n",
            "   age:Amy\n",
            "   birthdate:25may\n",
            "   gender:Girl\n",
            "   college:Caltech\n",
            "   Hobbies:study\n"
          ],
          "name": "stdout"
        }
      ]
    },
    {
      "cell_type": "code",
      "metadata": {
        "colab": {
          "base_uri": "https://localhost:8080/"
        },
        "id": "9ZzXVlL_KHEw",
        "outputId": "f6ea6704-147b-4ff5-dec9-d57cd9eb19d9"
      },
      "source": [
        "# dictionary to store product(\"name\"), quantity(\"quant\"), \n",
        "# price(\"price\") with empty list as their values\n",
        "a ={\"name\":[], \"quant\":[], \"price\":[]}\n",
        "b = list(a.values())\n",
        "na = b[0]\n",
        "qu = b[1]\n",
        "pr = b[2]\n",
        "pn = input(\"Enter product name : \") \n",
        "# input quantity of product\n",
        "q = input(\"Enter quantity : \")\n",
        "# input price of the product\n",
        "p = float(input(\"Enter price of the product : \"))    \n",
        "na.append(pn)  \n",
        "qu.append(q)   \n",
        "pr.append(p)\n",
        "for i in range(len(na)): \n",
        "    print(na[i],'\\n', qu[i],'\\n' , pr[i] )        "
      ],
      "execution_count": null,
      "outputs": [
        {
          "output_type": "stream",
          "text": [
            "Enter product name : Notebook\n",
            "Enter quantity : 5\n",
            "Enter price of the product : 150\n",
            "Notebook \n",
            " 5 \n",
            " 150.0\n"
          ],
          "name": "stdout"
        }
      ]
    },
    {
      "cell_type": "code",
      "metadata": {
        "colab": {
          "base_uri": "https://localhost:8080/"
        },
        "id": "wHZQ2-8_Rqx9",
        "outputId": "300edbb3-8714-4bc2-83f4-0756ac602dc6"
      },
      "source": [
        "print('11'.isnumeric())"
      ],
      "execution_count": null,
      "outputs": [
        {
          "output_type": "stream",
          "text": [
            "True\n"
          ],
          "name": "stdout"
        }
      ]
    },
    {
      "cell_type": "code",
      "metadata": {
        "colab": {
          "base_uri": "https://localhost:8080/"
        },
        "id": "6MNjV1Q4RvxX",
        "outputId": "5e3d2e00-c879-4274-ef04-f3d28021f696"
      },
      "source": [
        "print((1, 2) + (3, 4))"
      ],
      "execution_count": null,
      "outputs": [
        {
          "output_type": "stream",
          "text": [
            "(1, 2, 3, 4)\n"
          ],
          "name": "stdout"
        }
      ]
    },
    {
      "cell_type": "code",
      "metadata": {
        "colab": {
          "base_uri": "https://localhost:8080/"
        },
        "id": "mNZzsE6gR43C",
        "outputId": "5f632ee1-dceb-413f-d6b2-261be6bd054d"
      },
      "source": [
        "x=3.123\n",
        "print(int(x))"
      ],
      "execution_count": null,
      "outputs": [
        {
          "output_type": "stream",
          "text": [
            "3\n"
          ],
          "name": "stdout"
        }
      ]
    },
    {
      "cell_type": "code",
      "metadata": {
        "colab": {
          "base_uri": "https://localhost:8080/"
        },
        "id": "dnbcLSo-SYUh",
        "outputId": "0882d831-dbf6-4636-c441-a8a5984b2fef"
      },
      "source": [
        "squares = {1:1, 2:4, 3:9, 4:16, 5:25}  \n",
        "\n",
        "print(squares.pop(4))  \n",
        "print(squares)"
      ],
      "execution_count": null,
      "outputs": [
        {
          "output_type": "stream",
          "text": [
            "16\n",
            "{1: 1, 2: 4, 3: 9, 5: 25}\n"
          ],
          "name": "stdout"
        }
      ]
    },
    {
      "cell_type": "code",
      "metadata": {
        "colab": {
          "base_uri": "https://localhost:8080/"
        },
        "id": "8qmuu-o2SqM5",
        "outputId": "17e03c1d-d52a-4a1a-e147-49125a9a48d5"
      },
      "source": [
        "l=[1,2,3,4]\n",
        "l[-2]"
      ],
      "execution_count": null,
      "outputs": [
        {
          "output_type": "execute_result",
          "data": {
            "text/plain": [
              "3"
            ]
          },
          "metadata": {
            "tags": []
          },
          "execution_count": 39
        }
      ]
    },
    {
      "cell_type": "code",
      "metadata": {
        "colab": {
          "base_uri": "https://localhost:8080/"
        },
        "id": "5VU7D9GvVuR6",
        "outputId": "c8a8dd18-f443-47ef-e35b-cb13ba52d754"
      },
      "source": [
        "a = int(input('Enter First number: '))\n",
        "b = int(input('Enter Second number: '))\n",
        "add = a + b\n",
        "diff = a - b\n",
        "mul = a * b\n",
        "div = a / b\n",
        "floor_div = a // b\n",
        "power = a ** b\n",
        "modulus = a % b\n",
        "print('Sum of the numbers is',a ,'and' ,b ,'is :',add)\n",
        "print('Difference of the numbers is ',a ,'and' ,b ,'is :',diff)\n",
        "print('Product of the numbers is ' ,a ,'and' ,b ,'is :',mul)\n",
        "print('Division of the numbers is ',a ,'and' ,b ,'is :',div)\n",
        "print('Floor Division of the numbers is ',a ,'and' ,b ,'is :',floor_div)\n",
        "print('Exponent of the numbers is ',a ,'and' ,b ,'is :',power)\n",
        "print('Modulus of the numbers is ',a ,'and' ,b ,'is :',modulus)\n",
        "print(a == b)\n",
        "print(a > b)\n",
        "list_elements = [1,3,23,55,67,2,44,6789,333,4,557,214,6,9,6] \n",
        "print(\" Listed Verfied with : \" ,list_elements)\n",
        "if a not in list_elements :\n",
        "    print(\"\\n Check element Not found in list \\n\")\n",
        "else:\n",
        "    print(\"\\n Check element found in list\")\n"
      ],
      "execution_count": null,
      "outputs": [
        {
          "output_type": "stream",
          "text": [
            "Enter First number: 44\n",
            "Enter Second number: 4\n",
            "Sum of the numbers is 44 and 4 is : 48\n",
            "Difference of the numbers is  44 and 4 is : 40\n",
            "Product of the numbers is  44 and 4 is : 176\n",
            "Division of the numbers is  44 and 4 is : 11.0\n",
            "Floor Division of the numbers is  44 and 4 is : 11\n",
            "Exponent of the numbers is  44 and 4 is : 3748096\n",
            "Modulus of the numbers is  44 and 4 is : 0\n",
            "False\n",
            "True\n",
            " Listed Verfied with :  [1, 3, 23, 55, 67, 2, 44, 6789, 333, 4, 557, 214, 6, 9, 6]\n",
            "\n",
            " Check element found in list\n"
          ],
          "name": "stdout"
        }
      ]
    },
    {
      "cell_type": "code",
      "metadata": {
        "colab": {
          "base_uri": "https://localhost:8080/"
        },
        "id": "7vaqmXHWYGR5",
        "outputId": "706aee6b-1ffd-4404-bc58-52f5b95582fc"
      },
      "source": [
        "print(False or False)"
      ],
      "execution_count": null,
      "outputs": [
        {
          "output_type": "stream",
          "text": [
            "False\n"
          ],
          "name": "stdout"
        }
      ]
    },
    {
      "cell_type": "code",
      "metadata": {
        "colab": {
          "base_uri": "https://localhost:8080/"
        },
        "id": "hskhMeCyYJ5t",
        "outputId": "c0942bb3-8bc2-4ac6-ad7c-6b1e4401ee3f"
      },
      "source": [
        "print(9//2)"
      ],
      "execution_count": null,
      "outputs": [
        {
          "output_type": "stream",
          "text": [
            "4\n"
          ],
          "name": "stdout"
        }
      ]
    },
    {
      "cell_type": "code",
      "metadata": {
        "colab": {
          "base_uri": "https://localhost:8080/"
        },
        "id": "6IeZEOdaYPnV",
        "outputId": "e87aed4b-d380-4ca3-e217-99409a4321de"
      },
      "source": [
        "print(\"cat\" != \"dog\")"
      ],
      "execution_count": null,
      "outputs": [
        {
          "output_type": "stream",
          "text": [
            "True\n"
          ],
          "name": "stdout"
        }
      ]
    },
    {
      "cell_type": "code",
      "metadata": {
        "colab": {
          "base_uri": "https://localhost:8080/"
        },
        "id": "HgSjmrRRNrS8",
        "outputId": "4ed805fb-2584-4fdc-9206-2de7dd922ea4"
      },
      "source": [
        "for r in range(1,10,2):\n",
        "    print(r)"
      ],
      "execution_count": null,
      "outputs": [
        {
          "output_type": "stream",
          "text": [
            "1\n",
            "3\n",
            "5\n",
            "7\n",
            "9\n"
          ],
          "name": "stdout"
        }
      ]
    },
    {
      "cell_type": "code",
      "metadata": {
        "colab": {
          "base_uri": "https://localhost:8080/"
        },
        "id": "lZe4NOzuPWlH",
        "outputId": "9e99013d-24fd-4d4c-9e85-20b0e5bf4049"
      },
      "source": [
        "no = [1, 2]\n",
        "color = [\"red\", \"blue\"] \n",
        "for x in no:\n",
        "    for y in color:\n",
        "        print(x, y)"
      ],
      "execution_count": null,
      "outputs": [
        {
          "output_type": "stream",
          "text": [
            "1 red\n",
            "1 blue\n",
            "2 red\n",
            "2 blue\n"
          ],
          "name": "stdout"
        }
      ]
    },
    {
      "cell_type": "markdown",
      "metadata": {
        "id": "x9Px5-Ogusa-"
      },
      "source": [
        "1.Write a Python program to find those numbers which are divisible by 7 and multiple of 5, between 1500 and 2700 (both included)."
      ]
    },
    {
      "cell_type": "code",
      "metadata": {
        "colab": {
          "base_uri": "https://localhost:8080/"
        },
        "id": "MudeWh_FutZy",
        "outputId": "d172867e-e422-4351-e6c9-31be6d033fa0"
      },
      "source": [
        "x=1500\n",
        "while x<=2700:\n",
        "    if(x%5==0 and x%7==0):\n",
        "        print(x)\n",
        "    x+=1"
      ],
      "execution_count": null,
      "outputs": [
        {
          "output_type": "stream",
          "text": [
            "1505\n",
            "1540\n",
            "1575\n",
            "1610\n",
            "1645\n",
            "1680\n",
            "1715\n",
            "1750\n",
            "1785\n",
            "1820\n",
            "1855\n",
            "1890\n",
            "1925\n",
            "1960\n",
            "1995\n",
            "2030\n",
            "2065\n",
            "2100\n",
            "2135\n",
            "2170\n",
            "2205\n",
            "2240\n",
            "2275\n",
            "2310\n",
            "2345\n",
            "2380\n",
            "2415\n",
            "2450\n",
            "2485\n",
            "2520\n",
            "2555\n",
            "2590\n",
            "2625\n",
            "2660\n",
            "2695\n"
          ],
          "name": "stdout"
        }
      ]
    },
    {
      "cell_type": "markdown",
      "metadata": {
        "id": "LnrCyg_CwJvO"
      },
      "source": [
        "2.Write a Python program that accepts a word from the user and reverse it.\n"
      ]
    },
    {
      "cell_type": "code",
      "metadata": {
        "colab": {
          "base_uri": "https://localhost:8080/"
        },
        "id": "6kxWoBL8wPNE",
        "outputId": "383221c0-63eb-4440-bdf9-163a60675925"
      },
      "source": [
        "word=input(\"Enter to reverse:\")\n",
        "print(word[::-1])"
      ],
      "execution_count": null,
      "outputs": [
        {
          "output_type": "stream",
          "text": [
            "Enter to reverse:Aarushi\n",
            "ihsuraA\n"
          ],
          "name": "stdout"
        }
      ]
    },
    {
      "cell_type": "markdown",
      "metadata": {
        "id": "VWW1cPzgw8B2"
      },
      "source": [
        "3.Write a Python program which iterates the integers from 1 to 50. For multiples of three print “Fizz” instead of the number and for the multiples of five print “Buzz”. For numbers which are multiples of both three and five print “FizzBuzz”."
      ]
    },
    {
      "cell_type": "code",
      "metadata": {
        "colab": {
          "base_uri": "https://localhost:8080/"
        },
        "id": "1nDccKOpxDlU",
        "outputId": "01973fdc-f332-4ee4-88b7-93880d4e4375"
      },
      "source": [
        "x=1\n",
        "while x<=50:\n",
        "    if(x%3==0 and x%5==0):\n",
        "        print(\"FizzBuzz\")\n",
        "    elif(x%5==0):\n",
        "         print(\"Buzz\")\n",
        "    elif(x%3==0):\n",
        "          print(\"Fizz\")\n",
        "    else:\n",
        "          print(x)\n",
        "    x+=1"
      ],
      "execution_count": null,
      "outputs": [
        {
          "output_type": "stream",
          "text": [
            "1\n",
            "2\n",
            "Fizz\n",
            "4\n",
            "Buzz\n",
            "Fizz\n",
            "7\n",
            "8\n",
            "Fizz\n",
            "Buzz\n",
            "11\n",
            "Fizz\n",
            "13\n",
            "14\n",
            "FizzBuzz\n",
            "16\n",
            "17\n",
            "Fizz\n",
            "19\n",
            "Buzz\n",
            "Fizz\n",
            "22\n",
            "23\n",
            "Fizz\n",
            "Buzz\n",
            "26\n",
            "Fizz\n",
            "28\n",
            "29\n",
            "FizzBuzz\n",
            "31\n",
            "32\n",
            "Fizz\n",
            "34\n",
            "Buzz\n",
            "Fizz\n",
            "37\n",
            "38\n",
            "Fizz\n",
            "Buzz\n",
            "41\n",
            "Fizz\n",
            "43\n",
            "44\n",
            "FizzBuzz\n",
            "46\n",
            "47\n",
            "Fizz\n",
            "49\n",
            "Buzz\n"
          ],
          "name": "stdout"
        }
      ]
    },
    {
      "cell_type": "markdown",
      "metadata": {
        "id": "kKmvduND65ZL"
      },
      "source": [
        "4.Write a Python program that accepts a string and calculate the number of digits and letters"
      ]
    },
    {
      "cell_type": "markdown",
      "metadata": {
        "id": "j9KJwIXoBVdk"
      },
      "source": [
        "x=input(\"Enter string:\")\n",
        "list=[]\n",
        "count=0\n",
        "counts=0\n",
        "i=0\n",
        "range=len(x)\n",
        "for chars in x:\n",
        "      list.append(chars)\n",
        "\n",
        "for chars in list:\n",
        "      if(type(chars)=='int'):\n",
        "          count+=1\n",
        "      else:\n",
        "          counts+=1\n",
        "print(\"Digits:\",count)\n",
        "print(\"\\nLetters:\",counts)\n",
        "\n",
        "\n"
      ]
    },
    {
      "cell_type": "code",
      "metadata": {
        "colab": {
          "base_uri": "https://localhost:8080/"
        },
        "id": "9C38uTls7ClZ",
        "outputId": "84e31033-7ffe-4f04-f263-f25b70ecd2d6"
      },
      "source": [
        "x=input(\"Enter string:\")\n",
        "count=0\n",
        "counts=0\n",
        "for chars in x:\n",
        "      if(chars.isdigit()):\n",
        "          count+=1\n",
        "      elif(chars.isalpha()):\n",
        "          counts+=1\n",
        "print(\"\\nDigits:\",count)\n",
        "print(\"Letters:\",counts)"
      ],
      "execution_count": null,
      "outputs": [
        {
          "output_type": "stream",
          "text": [
            "Enter string:H2O\n",
            "\n",
            "Digits: 1\n",
            "Letters: 2\n"
          ],
          "name": "stdout"
        }
      ]
    },
    {
      "cell_type": "markdown",
      "metadata": {
        "id": "jJIrwX53CUP2"
      },
      "source": [
        "Write a Python program to check the validity of password input by users. Go to the editor\n",
        "Validation :\n",
        "  At least 1 letter between [a-z] and 1 letter between [A-Z].\n",
        "  At least 1 number between [0-9].\n",
        "  At least 1 character from [$#@].\n",
        "  Minimum length 6 characters.\n",
        "  Maximum length 16 characters.\n",
        "\n"
      ]
    },
    {
      "cell_type": "code",
      "metadata": {
        "colab": {
          "base_uri": "https://localhost:8080/"
        },
        "id": "XgNMuNmmLG4e",
        "outputId": "b3e41320-156b-4f2b-dcf9-b693e2d9f772"
      },
      "source": [
        "'''\n",
        " password=input(\"Input Password:\")\n",
        " if(len(password)>=6 and len(password)<=16):\n",
        "     for char in password:\n",
        "           for i in range(a,z):\n",
        "               if(char==i):\n",
        "                   co+=1\n",
        "                   break \n",
        "         for j in loop(A,Z):\n",
        "            if(char==j):\n",
        "                cou+=1\n",
        "                break\n",
        "        for k in loopy(0,9):\n",
        "            if(char==k):\n",
        "                coun+=1\n",
        "                break \n",
        "        if(char=='$' or char=='#' or char=='@'):\n",
        "            count+=1\n",
        "    if(co>=1 and cou>=1 and coun>=1 and count>=1):\n",
        "        print(\"Password valid\")\n",
        "    else:\n",
        "        print(\"Password Invalid\")\n",
        "else:\n",
        "      print(\"Password length not valid\"\n",
        "'''\n",
        "import re\n",
        "p= input(\"Input your password\")\n",
        "x = True\n",
        "while x:  \n",
        "    if (len(p)<6 or len(p)>16):\n",
        "        break\n",
        "    elif not re.search(\"[a-z]\",p):\n",
        "        break\n",
        "    elif not re.search(\"[0-9]\",p):\n",
        "        break\n",
        "    elif not re.search(\"[A-Z]\",p):\n",
        "        break\n",
        "    elif not re.search(\"[$#@]\",p):\n",
        "        break\n",
        "    elif re.search(\"\\s\",p):\n",
        "        break\n",
        "    else:\n",
        "        print(\"Valid Password\")\n",
        "        x=False\n",
        "        break\n",
        "\n",
        "if x:\n",
        "    print(\"Not a Valid Password\")\n",
        "       "
      ],
      "execution_count": null,
      "outputs": [
        {
          "output_type": "stream",
          "text": [
            "Input your passwordA@rus#i25\n",
            "Valid Password\n"
          ],
          "name": "stdout"
        }
      ]
    },
    {
      "cell_type": "code",
      "metadata": {
        "colab": {
          "base_uri": "https://localhost:8080/"
        },
        "id": "oM6Owxt92pCv",
        "outputId": "886c534b-1236-454c-daf0-2df0a2406320"
      },
      "source": [
        "for num in range(-2,-5,-1):\n",
        "    print(num, end=\", \")"
      ],
      "execution_count": null,
      "outputs": [
        {
          "output_type": "stream",
          "text": [
            "-2, -3, -4, "
          ],
          "name": "stdout"
        }
      ]
    },
    {
      "cell_type": "code",
      "metadata": {
        "colab": {
          "base_uri": "https://localhost:8080/",
          "height": 207
        },
        "id": "Ac5ss9mY3R4B",
        "outputId": "99f4e752-74cb-4cbe-9b77-0fcb0fd551ea"
      },
      "source": [
        "x = ['ab', 'cd']\n",
        "for i in x:\n",
        "    x.append(i.upper())\n",
        "print(x)"
      ],
      "execution_count": null,
      "outputs": [
        {
          "output_type": "error",
          "ename": "KeyboardInterrupt",
          "evalue": "ignored",
          "traceback": [
            "\u001b[0;31m---------------------------------------------------------------------------\u001b[0m",
            "\u001b[0;31mKeyboardInterrupt\u001b[0m                         Traceback (most recent call last)",
            "\u001b[0;32m<ipython-input-29-98e62fb22707>\u001b[0m in \u001b[0;36m<module>\u001b[0;34m()\u001b[0m\n\u001b[1;32m      1\u001b[0m \u001b[0mx\u001b[0m \u001b[0;34m=\u001b[0m \u001b[0;34m[\u001b[0m\u001b[0;34m'ab'\u001b[0m\u001b[0;34m,\u001b[0m \u001b[0;34m'cd'\u001b[0m\u001b[0;34m]\u001b[0m\u001b[0;34m\u001b[0m\u001b[0;34m\u001b[0m\u001b[0m\n\u001b[1;32m      2\u001b[0m \u001b[0;32mfor\u001b[0m \u001b[0mi\u001b[0m \u001b[0;32min\u001b[0m \u001b[0mx\u001b[0m\u001b[0;34m:\u001b[0m\u001b[0;34m\u001b[0m\u001b[0;34m\u001b[0m\u001b[0m\n\u001b[0;32m----> 3\u001b[0;31m     \u001b[0mx\u001b[0m\u001b[0;34m.\u001b[0m\u001b[0mappend\u001b[0m\u001b[0;34m(\u001b[0m\u001b[0mi\u001b[0m\u001b[0;34m.\u001b[0m\u001b[0mupper\u001b[0m\u001b[0;34m(\u001b[0m\u001b[0;34m)\u001b[0m\u001b[0;34m)\u001b[0m\u001b[0;34m\u001b[0m\u001b[0;34m\u001b[0m\u001b[0m\n\u001b[0m\u001b[1;32m      4\u001b[0m \u001b[0mprint\u001b[0m\u001b[0;34m(\u001b[0m\u001b[0mx\u001b[0m\u001b[0;34m)\u001b[0m\u001b[0;34m\u001b[0m\u001b[0;34m\u001b[0m\u001b[0m\n",
            "\u001b[0;31mKeyboardInterrupt\u001b[0m: "
          ]
        }
      ]
    },
    {
      "cell_type": "code",
      "metadata": {
        "id": "s2b_W8o13ay-",
        "colab": {
          "base_uri": "https://localhost:8080/"
        },
        "outputId": "3a847b1f-137c-44c9-b774-f2b02bd096c3"
      },
      "source": [
        "x = 0\n",
        "while (x < 100):\n",
        "  x+=2\n",
        "print(x)"
      ],
      "execution_count": null,
      "outputs": [
        {
          "output_type": "stream",
          "text": [
            "100\n"
          ],
          "name": "stdout"
        }
      ]
    },
    {
      "cell_type": "code",
      "metadata": {
        "colab": {
          "base_uri": "https://localhost:8080/"
        },
        "id": "H-UaKGCMPv3d",
        "outputId": "ac5f5cc3-a5e8-4147-cf26-8470cf97f607"
      },
      "source": [
        "def convert(t):\n",
        "    f=(t*9)/5+32\n",
        "    return(round(f,2))\n",
        "\n",
        "x=input(\"Enter temp:\")\n",
        "print(convert(int(x)))"
      ],
      "execution_count": null,
      "outputs": [
        {
          "output_type": "stream",
          "text": [
            "Enter temp:23\n",
            "73.4\n"
          ],
          "name": "stdout"
        }
      ]
    },
    {
      "cell_type": "code",
      "metadata": {
        "colab": {
          "base_uri": "https://localhost:8080/"
        },
        "id": "NWyhjmQ-S0Fa",
        "outputId": "9e8ace9f-3a45-4383-baaf-f096a89482b0"
      },
      "source": [
        "def height(ft,inch):\n",
        "      inch += ft * 12\n",
        "      m = round(inch * 2.54/100, 1)\n",
        "      return(m)\n",
        "\n",
        "print(\"Input your height: \")\n",
        "ft = int(input(\"Feet: \"))\n",
        "inch = int(input(\"Inches: \"))\n",
        "print(\"Height in meters:\", height(ft,inch))"
      ],
      "execution_count": null,
      "outputs": [
        {
          "output_type": "stream",
          "text": [
            "Input your height: \n",
            "Feet: 5\n",
            "Inches: 7\n",
            "Height in meters: 1.7\n"
          ],
          "name": "stdout"
        }
      ]
    },
    {
      "cell_type": "code",
      "metadata": {
        "colab": {
          "base_uri": "https://localhost:8080/"
        },
        "id": "MkdjMCkPUce8",
        "outputId": "6e28b6ed-aaef-4d88-b3c4-1c3e2297b675"
      },
      "source": [
        "def func(message, num = 1):\n",
        "    print(message * num)\n",
        " \n",
        "func('Welcome')\n",
        "func('Viewers', 3)"
      ],
      "execution_count": null,
      "outputs": [
        {
          "output_type": "stream",
          "text": [
            "Welcome\n",
            "ViewersViewersViewers\n"
          ],
          "name": "stdout"
        }
      ]
    },
    {
      "cell_type": "code",
      "metadata": {
        "colab": {
          "base_uri": "https://localhost:8080/"
        },
        "id": "JBUhWy34Ujg_",
        "outputId": "1c0331bf-25dc-4d65-97f9-441a76867221"
      },
      "source": [
        "def add(a, b):\n",
        "    return a+5, b+5\n",
        "\n",
        "result = add(3, 2)\n",
        "print(result)"
      ],
      "execution_count": null,
      "outputs": [
        {
          "output_type": "stream",
          "text": [
            "(8, 7)\n"
          ],
          "name": "stdout"
        }
      ]
    },
    {
      "cell_type": "code",
      "metadata": {
        "colab": {
          "base_uri": "https://localhost:8080/"
        },
        "id": "CrIaiKfjUnlC",
        "outputId": "e853cc55-b687-4cfa-c51d-12d947a60407"
      },
      "source": [
        "def outerFun(a, b):\n",
        "    def innerFun(c, d):\n",
        "        return c + d\n",
        "    return innerFun(a, b)\n",
        "    return a\n",
        "\n",
        "result = outerFun(5, 10)\n",
        "print(result)"
      ],
      "execution_count": null,
      "outputs": [
        {
          "output_type": "stream",
          "text": [
            "15\n"
          ],
          "name": "stdout"
        }
      ]
    },
    {
      "cell_type": "code",
      "metadata": {
        "colab": {
          "base_uri": "https://localhost:8080/"
        },
        "id": "uSjUtVo1Unjh",
        "outputId": "3f7c6004-af82-4dc1-9ed8-2dbbfc1350ff"
      },
      "source": [
        "def func(x = 1, y = 2):\n",
        "    x = x + y\n",
        "    y += 1\n",
        "    print(x, y)\n",
        "func(y = 2, x = 1)"
      ],
      "execution_count": null,
      "outputs": [
        {
          "output_type": "stream",
          "text": [
            "3 3\n"
          ],
          "name": "stdout"
        }
      ]
    },
    {
      "cell_type": "code",
      "metadata": {
        "colab": {
          "base_uri": "https://localhost:8080/"
        },
        "id": "MwyTHXUYUzyC",
        "outputId": "c136a339-3927-4d08-dd8e-f865a07b6b68"
      },
      "source": [
        "def fun1(name, age=20):\n",
        "    print(name, age)\n",
        "\n",
        "fun1('Emma', 25)"
      ],
      "execution_count": null,
      "outputs": [
        {
          "output_type": "stream",
          "text": [
            "Emma 25\n"
          ],
          "name": "stdout"
        }
      ]
    },
    {
      "cell_type": "code",
      "metadata": {
        "colab": {
          "base_uri": "https://localhost:8080/"
        },
        "id": "jVrcCg5iU5kn",
        "outputId": "9df4b5eb-55ee-4d0f-c9c4-eb717bb86415"
      },
      "source": [
        "def outerFun(a, b):\n",
        "    def innerFun(c, d):\n",
        "        return c + d\n",
        "    return innerFun(a, b)\n",
        "\n",
        "res = outerFun(5, 10)\n",
        "print(res)"
      ],
      "execution_count": null,
      "outputs": [
        {
          "output_type": "stream",
          "text": [
            "15\n"
          ],
          "name": "stdout"
        }
      ]
    },
    {
      "cell_type": "code",
      "metadata": {
        "colab": {
          "base_uri": "https://localhost:8080/"
        },
        "id": "8r-KxpAVk80Q",
        "outputId": "dfd5839b-a8c5-4d1b-d5ea-cfe560e6aa7d"
      },
      "source": [
        "class pets:\n",
        "    def __init__ (self, n, a):\n",
        "        self.name=n\n",
        "        self.age=a\n",
        "\n",
        "    def desc(self):\n",
        "        return print(f\"{self.name} is {self.age} years old\")\n",
        "\n",
        "class dogs:\n",
        "  def __init__(self,i_h):\n",
        "      self.is_hungry=i_h\n",
        "  \n",
        "  def eat(self):\n",
        "      if(self.i_h==true):\n",
        "            return print(f\"My dogs are hungry.\")\n",
        "      else:\n",
        "        return print(f\"My dogs are not hungry.\")\n",
        "\n",
        "print(\"I have 3 dogs\")\n",
        "tom=pets(\"Tom\",6)\n",
        "tom.desc()\n",
        "flet=pets(\"Fletcher\",7)\n",
        "flet.desc()\n",
        "lar=pets(\"Larry\",9)\n",
        "lar.desc()\n",
        "print(\"And they're all mammals, of course.\")\n",
        "is_hungry=dogs('false')\n",
        "\n"
      ],
      "execution_count": null,
      "outputs": [
        {
          "output_type": "stream",
          "text": [
            "I have 3 dogs\n",
            "Tom is 6 years old\n",
            "Fletcher is 7 years old\n",
            "Larry is 9 years old\n",
            "And they're all mammals, of course.\n"
          ],
          "name": "stdout"
        }
      ]
    },
    {
      "cell_type": "code",
      "metadata": {
        "id": "GpzC7h1QvLyZ"
      },
      "source": [
        "with open('first.txt','r') as firstfile, open('second.txt','a') as secondfile:\n",
        "      \n",
        "    # read content from first file\n",
        "    for line in firstfile:\n",
        "               \n",
        "             # append content to second file\n",
        "             secondfile.write(line)"
      ],
      "execution_count": null,
      "outputs": []
    },
    {
      "cell_type": "code",
      "metadata": {
        "id": "vnCrpVb-wKce"
      },
      "source": [
        "word_count =0\n",
        "f_name =\"/home/py/Desktop/test.txt\"\n",
        "\n",
        "with open(f_name,'r') as file:\n",
        "      for line in file:\n",
        "            word_count += len(line.split())\n",
        "\n",
        "print(\"The total no.of words:\",word_count)"
      ],
      "execution_count": null,
      "outputs": []
    },
    {
      "cell_type": "markdown",
      "metadata": {
        "id": "GxLG8u35xCzJ"
      },
      "source": [
        "                   The total no.of words: 57\n"
      ]
    },
    {
      "cell_type": "code",
      "metadata": {
        "colab": {
          "base_uri": "https://localhost:8080/",
          "height": 35
        },
        "id": "jYn2c6g8zXww",
        "outputId": "46a305d9-627d-4baf-f28c-08d1d0d486cb"
      },
      "source": [
        " >>> class Dog:\n",
        " ...     def walk(self):\n",
        " ...         return \"*walking*\"\n",
        " ...\n",
        " ...     def speak(self):\n",
        " ...         return \"Woof!\"\n",
        " ...\n",
        " >>> class JackRussellTerrier(Dog):\n",
        " ...     def speak(self):\n",
        "...         return \"Arff!\"\n",
        "...\n",
        ">>> bobo = JackRussellTerrier()\n",
        ">>> bobo.walk()"
      ],
      "execution_count": null,
      "outputs": [
        {
          "output_type": "execute_result",
          "data": {
            "application/vnd.google.colaboratory.intrinsic+json": {
              "type": "string"
            },
            "text/plain": [
              "'*walking*'"
            ]
          },
          "metadata": {
            "tags": []
          },
          "execution_count": 2
        }
      ]
    },
    {
      "cell_type": "code",
      "metadata": {
        "colab": {
          "base_uri": "https://localhost:8080/"
        },
        "id": "utkb7Wsdzcyv",
        "outputId": "901f91d5-a680-4f71-a089-e4df8c99cb8b"
      },
      "source": [
        "class change:\n",
        "    def __init__(self, x, y, z):\n",
        "        self.a = x + y + z\n",
        " \n",
        "x = change(1,2,3)\n",
        "y = getattr(x, 'a')\n",
        "setattr(x, 'a', y+1)\n",
        "print(x.a)"
      ],
      "execution_count": null,
      "outputs": [
        {
          "output_type": "stream",
          "text": [
            "7\n"
          ],
          "name": "stdout"
        }
      ]
    },
    {
      "cell_type": "code",
      "metadata": {
        "colab": {
          "base_uri": "https://localhost:8080/",
          "height": 35
        },
        "id": "15x-fk4tzeMp",
        "outputId": "2d857fcd-2bd0-402a-bcb5-918c454e6e6a"
      },
      "source": [
        " >>> class Dog:\n",
        " ...     def walk(self):\n",
        " ...         return \"*walking*\"\n",
        " ...\n",
        " ...     def speak(self):\n",
        " ...         return \"Woof!\"\n",
        " ...\n",
        " >>> class JackRussellTerrier(Dog):\n",
        " ...     def talk(self):\n",
        " ...         return super().speak()\n",
        " ...\n",
        " >>> bobo = JackRussellTerrier()\n",
        " >>> bobo.talk()"
      ],
      "execution_count": null,
      "outputs": [
        {
          "output_type": "execute_result",
          "data": {
            "application/vnd.google.colaboratory.intrinsic+json": {
              "type": "string"
            },
            "text/plain": [
              "'Woof!'"
            ]
          },
          "metadata": {
            "tags": []
          },
          "execution_count": 7
        }
      ]
    },
    {
      "cell_type": "code",
      "metadata": {
        "colab": {
          "base_uri": "https://localhost:8080/"
        },
        "id": "4gTuI8gZ226n",
        "outputId": "eec12841-9cb2-428b-de82-a0100cb66ef0"
      },
      "source": [
        "import numpy\n",
        "\n",
        "firstArray = numpy.empty([4,2], dtype = numpy.uint16) \n",
        "print(\"Printing Array\")\n",
        "print(firstArray)\n",
        "\n",
        "print(\"Printing numpy array Attributes\")\n",
        "print(\"1> Array Shape is: \", firstArray.shape)\n",
        "print(\"2>. Array dimensions are \", firstArray.ndim)\n",
        "print(\"3>. Length of each element of array in bytes is \", firstArray.itemsize)"
      ],
      "execution_count": null,
      "outputs": [
        {
          "output_type": "stream",
          "text": [
            "Printing Array\n",
            "[[28560  4580]\n",
            " [22046     0]\n",
            " [    0     0]\n",
            " [    0     0]]\n",
            "Printing numpy array Attributes\n",
            "1> Array Shape is:  (4, 2)\n",
            "2>. Array dimensions are  2\n",
            "3>. Length of each element of array in bytes is  2\n"
          ],
          "name": "stdout"
        }
      ]
    },
    {
      "cell_type": "code",
      "metadata": {
        "colab": {
          "base_uri": "https://localhost:8080/"
        },
        "id": "zET0UUbb27yR",
        "outputId": "750f9de9-c755-42c8-8e66-05da74e8296d"
      },
      "source": [
        "import numpy\n",
        "\n",
        "print(\"Creating 5X2 array using numpy.arange\")\n",
        "sampleArray = numpy.arange(320,420 , 10) /*500 shows an error*/\n",
        "sampleArray = sampleArray.reshape(5,2)\n",
        "print (sampleArray)  "
      ],
      "execution_count": null,
      "outputs": [
        {
          "output_type": "stream",
          "text": [
            "Creating 5X2 array using numpy.arange\n",
            "[[320 330]\n",
            " [340 350]\n",
            " [360 370]\n",
            " [380 390]\n",
            " [400 410]]\n"
          ],
          "name": "stdout"
        }
      ]
    },
    {
      "cell_type": "code",
      "metadata": {
        "colab": {
          "base_uri": "https://localhost:8080/"
        },
        "id": "AfpsL7NUYVwn",
        "outputId": "f3492b56-180b-4027-afbf-a8c8856d77f0"
      },
      "source": [
        "import numpy\n",
        "\n",
        "sampleArray = numpy.array([[11 ,22, 33], [44, 55, 66], [77, 88, 99]]) \n",
        "print(\"Printing Input Array\")\n",
        "print(sampleArray)\n",
        "\n",
        "print(\"\\n Printing array of items in the two column from all rows\")\n",
        "newArray = sampleArray[...,1]\n",
        "print(newArray)"
      ],
      "execution_count": null,
      "outputs": [
        {
          "output_type": "stream",
          "text": [
            "Printing Input Array\n",
            "[[11 22 33]\n",
            " [44 55 66]\n",
            " [77 88 99]]\n",
            "\n",
            " Printing array of items in the two column from all rows\n",
            "[22 55 88]\n"
          ],
          "name": "stdout"
        }
      ]
    },
    {
      "cell_type": "code",
      "metadata": {
        "colab": {
          "base_uri": "https://localhost:8080/"
        },
        "id": "Gc4MjsIraIwA",
        "outputId": "fc71e754-d013-4b06-fd76-00c030d770a1"
      },
      "source": [
        "import numpy\n",
        "\n",
        "sampleArray = numpy.array([[3 ,6, 9, 12], [15 ,18, 21, 24], \n",
        "[27 ,30, 33, 36], [39 ,42, 45, 48], [51 ,54, 57, 60]]) \n",
        "print(\"Printing Input Array\")\n",
        "print(sampleArray)\n",
        "\n",
        "print(\"\\n Printing array of odd rows and even columns\")\n",
        "newArray = sampleArray[::2, 1::2]\n",
        "print(newArray)"
      ],
      "execution_count": null,
      "outputs": [
        {
          "output_type": "stream",
          "text": [
            "Printing Input Array\n",
            "[[ 3  6  9 12]\n",
            " [15 18 21 24]\n",
            " [27 30 33 36]\n",
            " [39 42 45 48]\n",
            " [51 54 57 60]]\n",
            "\n",
            " Printing array of odd rows and even columns\n",
            "[[ 6 12]\n",
            " [30 36]\n",
            " [54 60]]\n"
          ],
          "name": "stdout"
        }
      ]
    },
    {
      "cell_type": "code",
      "metadata": {
        "colab": {
          "base_uri": "https://localhost:8080/"
        },
        "id": "uYQLrLqYax-s",
        "outputId": "ea0b28c7-ae3a-4c10-a764-c8d4f0260313"
      },
      "source": [
        "import numpy\n",
        "\n",
        "arrayOne = numpy.array([[5, 6, 8], [21 ,18, 27]])\n",
        "arrayTwo = numpy.array([[15 ,32, 24], [4 ,7, 1]])\n",
        "\n",
        "resultArray  = arrayOne + arrayTwo\n",
        "print(\"addition of two arrays is \\n\")\n",
        "print(resultArray)\n",
        "\n",
        "for num in numpy.nditer(resultArray, op_flags = ['readwrite']):\n",
        "   num[...] = num*num\n",
        "print(\"\\nResult array after calculating the square root of all elements\\n\")\n",
        "print(resultArray)"
      ],
      "execution_count": null,
      "outputs": [
        {
          "output_type": "stream",
          "text": [
            "addition of two arrays is \n",
            "\n",
            "[[20 38 32]\n",
            " [25 25 28]]\n",
            "\n",
            "Result array after calculating the square root of all elements\n",
            "\n",
            "[[ 400 1444 1024]\n",
            " [ 625  625  784]]\n"
          ],
          "name": "stdout"
        }
      ]
    },
    {
      "cell_type": "code",
      "metadata": {
        "colab": {
          "base_uri": "https://localhost:8080/"
        },
        "id": "yhTBzZ97bJ3a",
        "outputId": "249b11d6-ff60-4c7e-8926-2c3b10cddee4"
      },
      "source": [
        "\n",
        "import numpy\n",
        "print(\"Creating 8X3 array using numpy.arange\")\n",
        "sampleArray = numpy.arange(13, 40, 1)\n",
        "sampleArray = sampleArray.reshape(9,3)\n",
        "print (sampleArray)\n",
        "print(\"\\nDividing 8X3 array into 3 sub array\\n\")\n",
        "subArrays = numpy.split(sampleArray, 3) \n",
        "print(subArrays)"
      ],
      "execution_count": null,
      "outputs": [
        {
          "output_type": "stream",
          "text": [
            "Creating 8X3 array using numpy.arange\n",
            "[[13 14 15]\n",
            " [16 17 18]\n",
            " [19 20 21]\n",
            " [22 23 24]\n",
            " [25 26 27]\n",
            " [28 29 30]\n",
            " [31 32 33]\n",
            " [34 35 36]\n",
            " [37 38 39]]\n",
            "\n",
            "Dividing 8X3 array into 3 sub array\n",
            "\n",
            "[array([[13, 14, 15],\n",
            "       [16, 17, 18],\n",
            "       [19, 20, 21]]), array([[22, 23, 24],\n",
            "       [25, 26, 27],\n",
            "       [28, 29, 30]]), array([[31, 32, 33],\n",
            "       [34, 35, 36],\n",
            "       [37, 38, 39]])]\n"
          ],
          "name": "stdout"
        }
      ]
    },
    {
      "cell_type": "code",
      "metadata": {
        "colab": {
          "base_uri": "https://localhost:8080/"
        },
        "id": "9I6KD7pjcfR-",
        "outputId": "adaf0b91-a64a-47f7-db94-010f7ccef717"
      },
      "source": [
        "import numpy\n",
        "print(\"Printing Original array\")\n",
        "sArray = numpy.array([[34,43,73],[82,22,12],[53,94,66]]) \n",
        "print (sampleArray)\n",
        "sortArrayByRow = sArray[:,sArray[1,:].argsort()]\n",
        "print(\"Sorting Original array by secoond row\")\n",
        "print(sortArrayByRow)\n",
        "print(\"Sorting Original array by secoond column\")\n",
        "sortArrayByColumn = sArray[sArray[:,1].argsort()]\n",
        "print(sortArrayByColumn)"
      ],
      "execution_count": null,
      "outputs": [
        {
          "output_type": "stream",
          "text": [
            "Printing Original array\n",
            "[[13 14 15]\n",
            " [16 17 18]\n",
            " [19 20 21]\n",
            " [22 23 24]\n",
            " [25 26 27]\n",
            " [28 29 30]\n",
            " [31 32 33]\n",
            " [34 35 36]\n",
            " [37 38 39]]\n",
            "Sorting Original array by secoond row\n",
            "[[73 43 34]\n",
            " [12 22 82]\n",
            " [66 94 53]]\n",
            "Sorting Original array by secoond column\n",
            "[[82 22 12]\n",
            " [34 43 73]\n",
            " [53 94 66]]\n"
          ],
          "name": "stdout"
        }
      ]
    },
    {
      "cell_type": "code",
      "metadata": {
        "colab": {
          "base_uri": "https://localhost:8080/"
        },
        "id": "mj6lZMTac-nF",
        "outputId": "113c2e2d-506a-45f8-e08a-c1d00375dd4b"
      },
      "source": [
        "import numpy\n",
        "\n",
        "print(\"Printing Original array\")\n",
        "sArray = numpy.array([[34,43,73],[82,22,12],[53,94,66]]) \n",
        "print (sampleArray)\n",
        "\n",
        "minOfAxisOne = numpy.amin(sArray, 1) \n",
        "print(\"Printing amin Of Axis 1\")\n",
        "print(minOfAxisOne)\n",
        "\n",
        "maxOfAxisOne = numpy.amax(sArray, 0) \n",
        "print(\"Printing amax Of Axis 0\")\n",
        "print(maxOfAxisOne)"
      ],
      "execution_count": null,
      "outputs": [
        {
          "output_type": "stream",
          "text": [
            "Printing Original array\n",
            "[[13 14 15]\n",
            " [16 17 18]\n",
            " [19 20 21]\n",
            " [22 23 24]\n",
            " [25 26 27]\n",
            " [28 29 30]\n",
            " [31 32 33]\n",
            " [34 35 36]\n",
            " [37 38 39]]\n",
            "Printing amin Of Axis 1\n",
            "[34 12 53]\n",
            "Printing amax Of Axis 0\n",
            "[82 94 73]\n"
          ],
          "name": "stdout"
        }
      ]
    },
    {
      "cell_type": "code",
      "metadata": {
        "colab": {
          "base_uri": "https://localhost:8080/"
        },
        "id": "ExmZs0sXd_Up",
        "outputId": "bf690310-18a1-4fb2-cb6f-ccc2fd606bd2"
      },
      "source": [
        "import numpy\n",
        "print(\"Printing Original array\")\n",
        "sampleArray = numpy.array([[34,43,73],[82,22,12],[53,94,66]]) \n",
        "print (sampleArray)\n",
        "print(\"Array after deleting column 2 on axis 1\")\n",
        "sampleArray = numpy.delete(sampleArray , 1, axis = 1) \n",
        "print (sampleArray)\n",
        "arr = numpy.array([[10,10,10]])\n",
        "print(\"Array after inserting column 2 on axis 1\")\n",
        "sampleArray = numpy.insert(sampleArray , 1, arr, axis = 1) \n",
        "print (sampleArray)"
      ],
      "execution_count": null,
      "outputs": [
        {
          "output_type": "stream",
          "text": [
            "Printing Original array\n",
            "[[34 43 73]\n",
            " [82 22 12]\n",
            " [53 94 66]]\n",
            "Array after deleting column 2 on axis 1\n",
            "[[34 73]\n",
            " [82 12]\n",
            " [53 66]]\n",
            "Array after inserting column 2 on axis 1\n",
            "[[34 10 73]\n",
            " [82 10 12]\n",
            " [53 10 66]]\n"
          ],
          "name": "stdout"
        }
      ]
    },
    {
      "cell_type": "code",
      "metadata": {
        "colab": {
          "base_uri": "https://localhost:8080/"
        },
        "id": "9KzHg0Oceqxx",
        "outputId": "11e31fd5-38c5-44d4-ad39-980be32ff365"
      },
      "source": [
        "import numpy as np\n",
        "sampleArray1 = np.array([0, 10, 20, 40, 60])\n",
        "print(\"SampleArray1: \",sampleArray1)\n",
        "sampleArray2 = [10, 30, 40]\n",
        "print(\"Array2: \",sampleArray2)\n",
        "print(\"Common values between two arrays:\")\n",
        "print(np.intersect1d(sampleArray1, sampleArray2))\n"
      ],
      "execution_count": null,
      "outputs": [
        {
          "output_type": "stream",
          "text": [
            "SampleArray1:  [ 0 10 20 40 60]\n",
            "Array2:  [10, 30, 40]\n",
            "Common values between two arrays:\n",
            "[10 40]\n"
          ],
          "name": "stdout"
        }
      ]
    },
    {
      "cell_type": "code",
      "metadata": {
        "colab": {
          "base_uri": "https://localhost:8080/"
        },
        "id": "6h_sTd9omPCh",
        "outputId": "be5049c7-b5e8-436c-d9d1-b5e440e822e9"
      },
      "source": [
        "import pandas as pd\n",
        " \n",
        "ser1 = pd.Series([1.5, 2.5, 3, 4.5, 5.0, 6])\n",
        "print(ser1)"
      ],
      "execution_count": null,
      "outputs": [
        {
          "output_type": "stream",
          "text": [
            "0    1.5\n",
            "1    2.5\n",
            "2    3.0\n",
            "3    4.5\n",
            "4    5.0\n",
            "5    6.0\n",
            "dtype: float64\n"
          ],
          "name": "stdout"
        }
      ]
    },
    {
      "cell_type": "code",
      "metadata": {
        "colab": {
          "base_uri": "https://localhost:8080/"
        },
        "id": "AQerjUWtmcnN",
        "outputId": "6cf6b890-037b-47d0-b563-d22e0e4fa150"
      },
      "source": [
        "import pandas as pd\n",
        " \n",
        "ser4 = pd.Series({\"India\": \"New Delhi\",\n",
        "                  \"Japan\": \"Tokyo\",\n",
        "                  \"UK\": \"London\"})\n",
        "print(ser4)"
      ],
      "execution_count": null,
      "outputs": [
        {
          "output_type": "stream",
          "text": [
            "India    New Delhi\n",
            "Japan        Tokyo\n",
            "UK          London\n",
            "dtype: object\n"
          ],
          "name": "stdout"
        }
      ]
    },
    {
      "cell_type": "code",
      "metadata": {
        "colab": {
          "base_uri": "https://localhost:8080/"
        },
        "id": "7OteHn3Upm8R",
        "outputId": "e63e4c03-f578-4360-b5af-700ef45c5ff5"
      },
      "source": [
        "import pandas as pd\n",
        "s = pd.Series([1,2,3,4,5],index = ['a','b','c','d','e'])\n",
        "print(s[['a','c','d']])"
      ],
      "execution_count": null,
      "outputs": [
        {
          "output_type": "stream",
          "text": [
            "a    1\n",
            "c    3\n",
            "d    4\n",
            "dtype: int64\n"
          ],
          "name": "stdout"
        }
      ]
    },
    {
      "cell_type": "code",
      "metadata": {
        "colab": {
          "base_uri": "https://localhost:8080/"
        },
        "id": "ACzqCd8hqR-g",
        "outputId": "8fff4fc0-5fce-4191-f1d8-18c7b88379b1"
      },
      "source": [
        "import pandas as pd\n",
        "import numpy as np\n",
        "data = np.array(['a','b','c','d'])\n",
        "s = pd.Series(data)\n",
        "print (s)"
      ],
      "execution_count": null,
      "outputs": [
        {
          "output_type": "stream",
          "text": [
            "0    a\n",
            "1    b\n",
            "2    c\n",
            "3    d\n",
            "dtype: object\n"
          ],
          "name": "stdout"
        }
      ]
    },
    {
      "cell_type": "code",
      "metadata": {
        "colab": {
          "base_uri": "https://localhost:8080/"
        },
        "id": "LTuW71i6sdx7",
        "outputId": "89914130-5b63-4659-b070-8c1026fa8d71"
      },
      "source": [
        "import pandas as pd\n",
        " \n",
        "values = [\"Mathematics\", \"Science\", \"SocialStudies\",\n",
        "          \"Economics\", \"Computer\", \"English\"]\n",
        "short = [\"Math\", \"Sci\", \"Sst\", \"Eco\", \"Comp\", \"Eng\"]\n",
        " \n",
        "ser1 = pd.Series(values, index=short)\n",
        " \n",
        "print(\"-----Head()-----\")\n",
        "print(ser1.head(2))\n",
        "\n",
        "print(\"-----Tail()-----\")\n",
        "print(ser1.tail(2))\n",
        "\n",
        "print(\"-----Take()-----\")\n",
        "print(ser1.take([1, 3, 5]))"
      ],
      "execution_count": null,
      "outputs": [
        {
          "output_type": "stream",
          "text": [
            "-----Head()-----\n",
            "Math    Mathematics\n",
            "Sci         Science\n",
            "dtype: object\n",
            "-----Tail()-----\n",
            "Comp    Computer\n",
            "Eng      English\n",
            "dtype: object\n",
            "-----Take()-----\n",
            "Sci      Science\n",
            "Eco    Economics\n",
            "Eng      English\n",
            "dtype: object\n"
          ],
          "name": "stdout"
        }
      ]
    },
    {
      "cell_type": "code",
      "metadata": {
        "colab": {
          "base_uri": "https://localhost:8080/"
        },
        "id": "6DhA5ruzut9B",
        "outputId": "82124f41-99f5-4626-e5f1-d7344686d883"
      },
      "source": [
        "import pandas as pd\n",
        " \n",
        "num = [000, 100, 200, 300, 400, 500, 600, 700, 800, 900]\n",
        " \n",
        "id = ['A', 'B', 'C', 'D', 'E', 'F', 'G', 'H', 'I', 'J']\n",
        " \n",
        "series = pd.Series(num, index=id)\n",
        " \n",
        "print(\"\\n [2:7] \\n\")\n",
        "print(series[2:5])\n",
        " \n",
        "print(\"\\n [1:6:2] \\n\")\n",
        "print(series[1:6:2])\n",
        " \n",
        "print(\"\\n [:4] \\n\")\n",
        "print(series[:6])\n",
        " \n",
        "print(\"\\n [3:] \\n\")\n",
        "print(series[4:])\n",
        " \n",
        "print(\"\\n [:4:3] \\n\")\n",
        "print(series[:4:2])\n",
        " \n",
        "print(\"\\n [3::5] \\n\")\n",
        "print(series[4::2])\n",
        " \n",
        "print(\"\\n [::-1] \\n\")\n",
        "print(series[::-1])"
      ],
      "execution_count": null,
      "outputs": [
        {
          "output_type": "stream",
          "text": [
            "\n",
            " [2:7] \n",
            "\n",
            "C    200\n",
            "D    300\n",
            "E    400\n",
            "dtype: int64\n",
            "\n",
            " [1:6:2] \n",
            "\n",
            "B    100\n",
            "D    300\n",
            "F    500\n",
            "dtype: int64\n",
            "\n",
            " [:4] \n",
            "\n",
            "A      0\n",
            "B    100\n",
            "C    200\n",
            "D    300\n",
            "E    400\n",
            "F    500\n",
            "dtype: int64\n",
            "\n",
            " [3:] \n",
            "\n",
            "E    400\n",
            "F    500\n",
            "G    600\n",
            "H    700\n",
            "I    800\n",
            "J    900\n",
            "dtype: int64\n",
            "\n",
            " [:4:3] \n",
            "\n",
            "A      0\n",
            "C    200\n",
            "dtype: int64\n",
            "\n",
            " [3::5] \n",
            "\n",
            "E    400\n",
            "G    600\n",
            "I    800\n",
            "dtype: int64\n",
            "\n",
            " [::-1] \n",
            "\n",
            "J    900\n",
            "I    800\n",
            "H    700\n",
            "G    600\n",
            "F    500\n",
            "E    400\n",
            "D    300\n",
            "C    200\n",
            "B    100\n",
            "A      0\n",
            "dtype: int64\n"
          ],
          "name": "stdout"
        }
      ]
    },
    {
      "cell_type": "code",
      "metadata": {
        "id": "6Wo2OGUNByi1",
        "colab": {
          "base_uri": "https://localhost:8080/"
        },
        "outputId": "3ba4bedd-d82e-45a3-9c04-e74b5e72b5de"
      },
      "source": [
        "import pandas as pd\n",
        " \n",
        "classroom = pd.DataFrame({\n",
        "    'Enr': ['Enrno1', 'Enrno2','Enrno3'],\n",
        "    'Name': ['Mabel Karim', 'Abby Ngyuen', 'Safia Edlewoerth'],\n",
        "    'Major': ['Science', 'Music','Music'],\n",
        "    'Batch': ['2019-2023', '2020-2024','2018-2022'],\n",
        "    'Age': [20, 18, 21]})\n",
        "\n",
        "classroom.columns = ['EnrollmentNo.', 'StudentName', 'Minor', 'Batch year', 'StudentAge']\n",
        "\n",
        "print(classroom)"
      ],
      "execution_count": 14,
      "outputs": [
        {
          "output_type": "stream",
          "text": [
            "  EnrollmentNo.       StudentName    Minor Batch year  StudentAge\n",
            "0        Enrno1       Mabel Karim  Science  2019-2023          20\n",
            "1        Enrno2       Abby Ngyuen    Music  2020-2024          18\n",
            "2        Enrno3  Safia Edlewoerth    Music  2018-2022          21\n"
          ],
          "name": "stdout"
        }
      ]
    },
    {
      "cell_type": "code",
      "metadata": {
        "colab": {
          "base_uri": "https://localhost:8080/"
        },
        "id": "QzHgakizIGxW",
        "outputId": "d739286f-ac10-4732-98bf-0d5a8dcbd31a"
      },
      "source": [
        "print(classroom.loc[classroom['StudentAge'] == 18] )\n",
        "print(\"-------------------------------------------------\")\n",
        "print(classroom.loc[classroom['StudentAge'] >= 20])\n",
        "print(\"-------------------------------------------------\")\n",
        "print(classroom.loc[classroom['Minor'] != 'Music'])\n",
        "print(\"-------------------------------------------------\")"
      ],
      "execution_count": 2,
      "outputs": [
        {
          "output_type": "stream",
          "text": [
            "  EnrollmentNo.  StudentName  Minor Batch year  StudentAge\n",
            "1        Enrno2  Abby Ngyuen  Music  2020-2024          18\n",
            "-------------------------------------------------\n",
            "  EnrollmentNo.       StudentName    Minor Batch year  StudentAge\n",
            "0        Enrno1       Mabel Karim  Science  2019-2023          20\n",
            "2        Enrno3  Safia Edlewoerth    Music  2018-2022          21\n",
            "-------------------------------------------------\n",
            "  EnrollmentNo.  StudentName    Minor Batch year  StudentAge\n",
            "0        Enrno1  Mabel Karim  Science  2019-2023          20\n",
            "-------------------------------------------------\n"
          ],
          "name": "stdout"
        }
      ]
    },
    {
      "cell_type": "code",
      "metadata": {
        "colab": {
          "base_uri": "https://localhost:8080/"
        },
        "id": "aUzj0tWyMmqo",
        "outputId": "902dc067-4c6d-4f92-ea9b-24f2896ca7be"
      },
      "source": [
        "print(\"\\nUsing isin operator\\n\")\n",
        "print(classroom.loc[classroom['Minor'].isin(['Music','Science'])])\n",
        " "
      ],
      "execution_count": 3,
      "outputs": [
        {
          "output_type": "stream",
          "text": [
            "\n",
            "Using isin operator\n",
            "\n",
            "  EnrollmentNo.       StudentName    Minor Batch year  StudentAge\n",
            "0        Enrno1       Mabel Karim  Science  2019-2023          20\n",
            "1        Enrno2       Abby Ngyuen    Music  2020-2024          18\n",
            "2        Enrno3  Safia Edlewoerth    Music  2018-2022          21\n"
          ],
          "name": "stdout"
        }
      ]
    },
    {
      "cell_type": "code",
      "metadata": {
        "colab": {
          "base_uri": "https://localhost:8080/"
        },
        "id": "GCAicR8bQ_6P",
        "outputId": "9aebe3c4-59f4-4edd-a1d2-1805de25c31f"
      },
      "source": [
        "print(\"\\n iterrows \\n\")\n",
        "for index, col in classroom.iterrows():\n",
        "    print(col['StudentName'], \"-\", col['StudentAge'])\n",
        " \n",
        " \n",
        "print(\"\\n itertuples \\n\")\n",
        "for row in classroom.itertuples(index=True, name='Pandas'):\n",
        "    print(getattr(row, \"StudentName\"), \"-\", getattr(row, \"StudentAge\"))"
      ],
      "execution_count": 4,
      "outputs": [
        {
          "output_type": "stream",
          "text": [
            "\n",
            " iterrows \n",
            "\n",
            "Mabel Karim - 20\n",
            "Abby Ngyuen - 18\n",
            "Safia Edlewoerth - 21\n",
            "\n",
            " itertuples \n",
            "\n",
            "Mabel Karim - 20\n",
            "Abby Ngyuen - 18\n",
            "Safia Edlewoerth - 21\n"
          ],
          "name": "stdout"
        }
      ]
    },
    {
      "cell_type": "code",
      "metadata": {
        "colab": {
          "base_uri": "https://localhost:8080/"
        },
        "id": "9ofYPzuFR2lB",
        "outputId": "d8a4b6e6-b864-4364-f03d-ad68ccf1981d"
      },
      "source": [
        "print(\"\\n Drop Column by Name \\n\")\n",
        "classroom.drop('StudentAge', axis=1, inplace=True)\n",
        "print(classroom)\n",
        " \n",
        "print(\"\\n Drop Column by Index \\n\")\n",
        "classroom.drop(classroom.columns[[0,2]], axis=1, inplace=True)\n",
        "print(classroom)"
      ],
      "execution_count": 5,
      "outputs": [
        {
          "output_type": "stream",
          "text": [
            "\n",
            " Drop Column by Name \n",
            "\n",
            "  EnrollmentNo.       StudentName    Minor Batch year\n",
            "0        Enrno1       Mabel Karim  Science  2019-2023\n",
            "1        Enrno2       Abby Ngyuen    Music  2020-2024\n",
            "2        Enrno3  Safia Edlewoerth    Music  2018-2022\n",
            "\n",
            " Drop Column by Index \n",
            "\n",
            "        StudentName Batch year\n",
            "0       Mabel Karim  2019-2023\n",
            "1       Abby Ngyuen  2020-2024\n",
            "2  Safia Edlewoerth  2018-2022\n"
          ],
          "name": "stdout"
        }
      ]
    },
    {
      "cell_type": "code",
      "metadata": {
        "colab": {
          "base_uri": "https://localhost:8080/"
        },
        "id": "74zC98twShTU",
        "outputId": "bbbd3558-9482-4b15-ff1d-aad47ff7b71d"
      },
      "source": [
        "\n",
        "classroom['Enrno'] = ['Enrno1', 'Enrno2', 'Enrno3']\n",
        "print(classroom)"
      ],
      "execution_count": 6,
      "outputs": [
        {
          "output_type": "stream",
          "text": [
            "        StudentName Batch year   Enrno\n",
            "0       Mabel Karim  2019-2023  Enrno1\n",
            "1       Abby Ngyuen  2020-2024  Enrno2\n",
            "2  Safia Edlewoerth  2018-2022  Enrno3\n"
          ],
          "name": "stdout"
        }
      ]
    },
    {
      "cell_type": "code",
      "metadata": {
        "colab": {
          "base_uri": "https://localhost:8080/"
        },
        "id": "BncepTYrUDVP",
        "outputId": "3d59afac-d367-46ce-f517-0a0ce0255b8a"
      },
      "source": [
        "\n",
        "print(list(classroom))\n",
        " \n",
        "print(list(classroom.columns.values))\n",
        " \n",
        "print(classroom.columns.tolist())"
      ],
      "execution_count": 7,
      "outputs": [
        {
          "output_type": "stream",
          "text": [
            "['StudentName', 'Batch year', 'Enrno']\n",
            "['StudentName', 'Batch year', 'Enrno']\n",
            "['StudentName', 'Batch year', 'Enrno']\n"
          ],
          "name": "stdout"
        }
      ]
    },
    {
      "cell_type": "code",
      "metadata": {
        "colab": {
          "base_uri": "https://localhost:8080/"
        },
        "id": "hGW9raEQU0zN",
        "outputId": "e8ff5a92-d2c9-417e-ff02-21930a31ed78"
      },
      "source": [
        "\n",
        "import numpy as np\n",
        "import pandas as pd\n",
        "df = pd.DataFrame(np.random.randint(0,100,size=(100, 4)), columns=list('ABCD'))\n",
        "print(df)"
      ],
      "execution_count": 12,
      "outputs": [
        {
          "output_type": "stream",
          "text": [
            "     A   B   C   D\n",
            "0   45  44  30  80\n",
            "1   69  52  39  65\n",
            "2   90  96  47  77\n",
            "3   75  39  11  97\n",
            "4   37  54  88  26\n",
            "..  ..  ..  ..  ..\n",
            "95  80  96  89  67\n",
            "96  85   5  55  97\n",
            "97   8  93  13  48\n",
            "98  39  48  29  97\n",
            "99  12  57  40  11\n",
            "\n",
            "[100 rows x 4 columns]\n"
          ],
          "name": "stdout"
        }
      ]
    },
    {
      "cell_type": "code",
      "metadata": {
        "colab": {
          "base_uri": "https://localhost:8080/"
        },
        "id": "z0UfovwcY5fF",
        "outputId": "78b8dd8e-fd78-4dd5-9871-be72b7b42302"
      },
      "source": [
        "\n",
        "df = classroom[['EnrollmentNo.', 'Batch year']]\n",
        "print(df)"
      ],
      "execution_count": 15,
      "outputs": [
        {
          "output_type": "stream",
          "text": [
            "  EnrollmentNo. Batch year\n",
            "0        Enrno1  2019-2023\n",
            "1        Enrno2  2020-2024\n",
            "2        Enrno3  2018-2022\n"
          ],
          "name": "stdout"
        }
      ]
    },
    {
      "cell_type": "code",
      "metadata": {
        "colab": {
          "base_uri": "https://localhost:8080/"
        },
        "id": "IrzCzoGiZ6jD",
        "outputId": "99276c62-7f4a-40a4-e341-e1432c47dd6d"
      },
      "source": [
        "import pandas as pd\n",
        " \n",
        "df = pd.DataFrame({'Age': [25, 20, 22, 19, 21, 28, 23],\n",
        "                   'Color': ['Blue', 'Green', 'Red', 'White', 'Gray', 'Black',\n",
        "                             'Red'],\n",
        "                   'Food': ['Waffles', 'Pancake', 'Shawarma', 'Cupcake', 'Bhel',\n",
        "                            'Gummy Bears', 'Greens'] },\n",
        "                    index=['Belle', 'Mason', 'Aarav', 'Aarushi', 'Lakshitha','Abigail', 'Alan']\n",
        "         ) \n",
        "\n",
        "\n",
        "\n",
        "print(df.loc['Aarav'])\n",
        "print(\"________________________________________________________\")\n",
        "print(df.loc[['Mason', 'Aarushi', 'Belle']])\n",
        "print(\"________________________________________________________\")\n",
        "print(df.loc['Lakshitha':'Alan'])\n",
        "\n",
        "print(data)\n",
        " \n"
      ],
      "execution_count": 31,
      "outputs": [
        {
          "output_type": "stream",
          "text": [
            "Age            22\n",
            "Color         Red\n",
            "Food     Shawarma\n",
            "Name: Aarav, dtype: object\n",
            "________________________________________________________\n",
            "         Age  Color     Food\n",
            "Mason     20  Green  Pancake\n",
            "Aarushi   19  White  Cupcake\n",
            "Belle     25   Blue  Waffles\n",
            "________________________________________________________\n",
            "           Age  Color         Food\n",
            "Lakshitha   21   Gray         Bhel\n",
            "Abigail     28  Black  Gummy Bears\n",
            "Alan        23    Red       Greens\n",
            "________________________________________________________\n",
            "{'Age': [25, 20, 22, 19, 21, 28, 23], 'Color': ['Blue', 'Green', 'Red', 'White', 'Gray', 'Black', 'Red'], 'Food': ['Waffles', 'Pancake', 'Shawarma', 'Cupcake', 'Bhel', 'Gummy Bears', 'Greens']}\n"
          ],
          "name": "stdout"
        }
      ]
    },
    {
      "cell_type": "code",
      "metadata": {
        "colab": {
          "base_uri": "https://localhost:8080/"
        },
        "id": "-s37-HXGeO_M",
        "outputId": "68099146-8ab8-4b78-a4fe-398031255825"
      },
      "source": [
        "\n",
        "import pandas as pd\n",
        " \n",
        "d = pd.DataFrame()\n",
        " \n",
        "if d.empty:\n",
        "    print('DataFrame is empty!')"
      ],
      "execution_count": 32,
      "outputs": [
        {
          "output_type": "stream",
          "text": [
            "DataFrame is empty!\n"
          ],
          "name": "stdout"
        }
      ]
    },
    {
      "cell_type": "code",
      "metadata": {
        "colab": {
          "base_uri": "https://localhost:8080/"
        },
        "id": "oBpdT_STfY3l",
        "outputId": "f3a2a920-d5db-4e6a-9b0b-213dcde0b3ac"
      },
      "source": [
        "import pandas as pd\n",
        " \n",
        "values = [\"Mathematics\", \"Science\", \"SocialStudies\",\n",
        "          \"Economics\", \"Computer\", \"English\"]\n",
        "short = [\"Math\", \"Sci\", \"Sst\", \"Eco\", \"Comp\", \"Eng\"]\n",
        "\n",
        "df = pd.DataFrame(values, index=short, columns=['values'])\n",
        " \n",
        "print(df)"
      ],
      "execution_count": 34,
      "outputs": [
        {
          "output_type": "stream",
          "text": [
            "             values\n",
            "Math    Mathematics\n",
            "Sci         Science\n",
            "Sst   SocialStudies\n",
            "Eco       Economics\n",
            "Comp       Computer\n",
            "Eng         English\n"
          ],
          "name": "stdout"
        }
      ]
    },
    {
      "cell_type": "code",
      "metadata": {
        "colab": {
          "base_uri": "https://localhost:8080/"
        },
        "id": "rPa58Xaefznp",
        "outputId": "0c5b7cee-1e2f-4d55-cee9-831a6156239b"
      },
      "source": [
        "import pandas as pd\n",
        " \n",
        "df = pd.DataFrame({'Age': [25, 20, 22, 19, 21, 28, 23],\n",
        "                   'Color': ['Blue', 'Green', 'Red', 'White', 'Gray', 'Black',\n",
        "                             'Red'],\n",
        "                   'Food': ['Waffles', 'Pancake', 'Shawarma', 'Cupcake', 'Bhel',\n",
        "                            'Gummy Bears', 'Greens'] },\n",
        "                    index=['Belle', 'Mason', 'Aarav', 'Aarushi', 'Lakshitha','Abigail', 'Alan']\n",
        "         ) \n",
        "\n",
        "\n",
        "print(df.iloc[3])\n",
        "print(\"_____________________________________________________________\")\n",
        "print(df.iloc[[2, -1]])\n",
        "print(\"_____________________________________________________________\")\n",
        "print(df.iloc[:4:2])"
      ],
      "execution_count": 36,
      "outputs": [
        {
          "output_type": "stream",
          "text": [
            "Age           19\n",
            "Color      White\n",
            "Food     Cupcake\n",
            "Name: Aarushi, dtype: object\n",
            "_____________________________________________________________\n",
            "       Age Color      Food\n",
            "Aarav   22   Red  Shawarma\n",
            "Alan    23   Red    Greens\n",
            "_____________________________________________________________\n",
            "       Age Color      Food\n",
            "Belle   25  Blue   Waffles\n",
            "Aarav   22   Red  Shawarma\n"
          ],
          "name": "stdout"
        }
      ]
    },
    {
      "cell_type": "code",
      "metadata": {
        "colab": {
          "base_uri": "https://localhost:8080/"
        },
        "id": "8ZNC_LpPgueI",
        "outputId": "15f42a96-64e3-426e-f495-3af60b415792"
      },
      "source": [
        "import pandas as pd\n",
        " \n",
        "df = pd.DataFrame({'Age': [25, 20, 22, 19, 21, 28, 23],\n",
        "                   'Color': ['Blue', 'Green', 'Red', 'White', 'Gray', 'Black',\n",
        "                             'Red'],\n",
        "                   'Food': ['Waffles', 'Pancake', 'Shawarma', 'Cupcake', 'Bhel',\n",
        "                            'Gummy Bears', 'Greens'] },\n",
        "                    index=['Belle', 'Mason', 'Aarav', 'Aarushi', 'Lakshitha','Abigail', 'Alan']\n",
        "         ) \n",
        "\n",
        "\n",
        "print(\"\\n loc \\n\")\n",
        "print(df.loc[df['Age'] < 30, ['Color', 'Food']])\n",
        " \n",
        "print(\"\\n iloc  \\n\")\n",
        "print(df.iloc[(df['Age'] < 30).values, [1, 2]])"
      ],
      "execution_count": 40,
      "outputs": [
        {
          "output_type": "stream",
          "text": [
            "\n",
            " loc \n",
            "\n",
            "           Color         Food\n",
            "Belle       Blue      Waffles\n",
            "Mason      Green      Pancake\n",
            "Aarav        Red     Shawarma\n",
            "Aarushi    White      Cupcake\n",
            "Lakshitha   Gray         Bhel\n",
            "Abigail    Black  Gummy Bears\n",
            "Alan         Red       Greens\n",
            "\n",
            " iloc  \n",
            "\n",
            "           Color         Food\n",
            "Belle       Blue      Waffles\n",
            "Mason      Green      Pancake\n",
            "Aarav        Red     Shawarma\n",
            "Aarushi    White      Cupcake\n",
            "Lakshitha   Gray         Bhel\n",
            "Abigail    Black  Gummy Bears\n",
            "Alan         Red       Greens\n"
          ],
          "name": "stdout"
        }
      ]
    },
    {
      "cell_type": "code",
      "metadata": {
        "colab": {
          "base_uri": "https://localhost:8080/"
        },
        "id": "V4qo5Sc3hUm5",
        "outputId": "29983a0e-e1c8-4840-c97a-16e39fe88aa1"
      },
      "source": [
        "import datetime\n",
        "import pandas as pd\n",
        " \n",
        "t_date = datetime.datetime.now().date()\n",
        "index = pd.date_range(t_date, periods=7, freq='D')\n",
        " \n",
        "columns = ['A', 'B', 'C']\n",
        " \n",
        "df = pd.DataFrame(index=index, columns=columns)\n",
        "df = df.fillna(0)\n",
        " \n",
        "print(df)"
      ],
      "execution_count": 42,
      "outputs": [
        {
          "output_type": "stream",
          "text": [
            "            A  B  C\n",
            "2021-07-05  0  0  0\n",
            "2021-07-06  0  0  0\n",
            "2021-07-07  0  0  0\n",
            "2021-07-08  0  0  0\n",
            "2021-07-09  0  0  0\n",
            "2021-07-10  0  0  0\n",
            "2021-07-11  0  0  0\n"
          ],
          "name": "stdout"
        }
      ]
    },
    {
      "cell_type": "code",
      "metadata": {
        "colab": {
          "base_uri": "https://localhost:8080/"
        },
        "id": "0byPDPJQirb2",
        "outputId": "9a5fc988-ed73-4246-8ac2-cce8f9ff76c1"
      },
      "source": [
        "import pandas as pd\n",
        " \n",
        "df = pd.DataFrame({'Age': [25, 20, 22, 19, 21, 28, 23],\n",
        "                   'Color': ['Blue', 'Green', 'Red', 'White', 'Gray', 'Black',\n",
        "                             'Red'],\n",
        "                   'Food': ['Waffles', 'Pancake', 'Shawarma', 'Cupcake', 'Bhel',\n",
        "                            'Gummy Bears', 'Greens'] },\n",
        "                    index=['Belle', 'Mason', 'Aarav', 'Aarushi', 'Lakshitha','Abigail', 'Alan']\n",
        "         ) \n",
        "\n",
        "\n",
        "print(\"\\n using columns \\n\")\n",
        "new_order = [ 2, 1, 0]\n",
        "df = df[df.columns[new_order]]\n",
        "print(df)\n",
        " \n",
        "print(\"\\n using reindex \\n\")\n",
        "df = df.reindex(['Color', 'Food','Age'], axis=1)\n",
        "print(df)"
      ],
      "execution_count": 43,
      "outputs": [
        {
          "output_type": "stream",
          "text": [
            "\n",
            " using columns \n",
            "\n",
            "                  Food  Color  Age\n",
            "Belle          Waffles   Blue   25\n",
            "Mason          Pancake  Green   20\n",
            "Aarav         Shawarma    Red   22\n",
            "Aarushi        Cupcake  White   19\n",
            "Lakshitha         Bhel   Gray   21\n",
            "Abigail    Gummy Bears  Black   28\n",
            "Alan            Greens    Red   23\n",
            "\n",
            " using reindex \n",
            "\n",
            "           Color         Food  Age\n",
            "Belle       Blue      Waffles   25\n",
            "Mason      Green      Pancake   20\n",
            "Aarav        Red     Shawarma   22\n",
            "Aarushi    White      Cupcake   19\n",
            "Lakshitha   Gray         Bhel   21\n",
            "Abigail    Black  Gummy Bears   28\n",
            "Alan         Red       Greens   23\n"
          ],
          "name": "stdout"
        }
      ]
    },
    {
      "cell_type": "code",
      "metadata": {
        "colab": {
          "base_uri": "https://localhost:8080/"
        },
        "id": "bLnrbxF3jpJy",
        "outputId": "cc45249d-701d-4e57-d4e0-c9a71a308c68"
      },
      "source": [
        "import pandas as pd\n",
        " \n",
        "df = pd.DataFrame({'Age': [25, 20, 22, 19, 21, 28, 23],\n",
        "                   'Color': ['Blue', 'Green', 'Red', 'White', 'Gray', 'Black',\n",
        "                             'Red'],\n",
        "                   'Food': ['Waffles', 'Pancake', 'Shawarma', 'Cupcake', 'Bhel',\n",
        "                            'Gummy Bears', 'Greens'] },\n",
        "                    index=['Belle', 'Mason', 'Aarav', 'Aarushi', 'Lakshitha','Abigail', 'Alan']\n",
        "         ) \n",
        "\n",
        "print(df.dtypes)\n",
        "\n",
        "df['Age'] = df['Age'].astype(str)\n",
        " \n",
        "print(df.dtypes)"
      ],
      "execution_count": 45,
      "outputs": [
        {
          "output_type": "stream",
          "text": [
            "Age       int64\n",
            "Color    object\n",
            "Food     object\n",
            "dtype: object\n",
            "Age      object\n",
            "Color    object\n",
            "Food     object\n",
            "dtype: object\n"
          ],
          "name": "stdout"
        }
      ]
    },
    {
      "cell_type": "code",
      "metadata": {
        "colab": {
          "base_uri": "https://localhost:8080/"
        },
        "id": "ljYB3XqHkZpN",
        "outputId": "df900ff8-f271-48d8-d376-10a198eb179b"
      },
      "source": [
        "\n",
        "import pandas as pd\n",
        "import numpy as np\n",
        " \n",
        "ser1 = pd.Series(np.linspace(1, 9, 2))\n",
        "print(ser1)\n",
        " \n",
        "ser2 = pd.Series(np.random.normal(size=3))\n",
        "print(ser2)"
      ],
      "execution_count": 46,
      "outputs": [
        {
          "output_type": "stream",
          "text": [
            "0    1.0\n",
            "1    9.0\n",
            "dtype: float64\n",
            "0    1.193662\n",
            "1    0.275139\n",
            "2    0.082205\n",
            "dtype: float64\n"
          ],
          "name": "stdout"
        }
      ]
    },
    {
      "cell_type": "code",
      "metadata": {
        "id": "uj8SwEB_Mcy0"
      },
      "source": [
        "import numpy as np\n",
        "x = np.arange(0,100)\n",
        "y = x*2\n",
        "z = x**2"
      ],
      "execution_count": 1,
      "outputs": []
    },
    {
      "cell_type": "code",
      "metadata": {
        "id": "rZQYcn-JMl3a"
      },
      "source": [
        "import matplotlib.pyplot as plt\n",
        "%matplotlib inline\n",
        "# plt.show() for non-notebook users"
      ],
      "execution_count": 2,
      "outputs": []
    },
    {
      "cell_type": "code",
      "metadata": {
        "colab": {
          "base_uri": "https://localhost:8080/",
          "height": 383
        },
        "id": "5isgSIAaMrh2",
        "outputId": "5db31fcd-5937-4c62-e50e-673b8d2c96a5"
      },
      "source": [
        "fig = plt.figure()\n",
        "ax = fig.add_axes([0,0,1,1])\n",
        "ax.plot(x,y)\n",
        "ax.set_xlabel('x')\n",
        "ax.set_ylabel('y')\n",
        "ax.set_title('title')"
      ],
      "execution_count": 3,
      "outputs": [
        {
          "output_type": "execute_result",
          "data": {
            "text/plain": [
              "Text(0.5, 1.0, 'title')"
            ]
          },
          "metadata": {
            "tags": []
          },
          "execution_count": 3
        },
        {
          "output_type": "display_data",
          "data": {
            "image/png": "[encoded data removed]",
            "text/plain": [
              "<Figure size 432x288 with 1 Axes>"
            ]
          },
          "metadata": {
            "tags": [],
            "needs_background": "light"
          }
        }
      ]
    },
    {
      "cell_type": "code",
      "metadata": {
        "colab": {
          "base_uri": "https://localhost:8080/",
          "height": 340
        },
        "id": "NqWBa_BSM6pZ",
        "outputId": "ea4798cc-40fb-479f-81c4-2703b9b2c02f"
      },
      "source": [
        "fig = plt.figure()\n",
        "\n",
        "ax1 = fig.add_axes([0,0,1,1])\n",
        "ax2 = fig.add_axes([0.2,0.5,.2,.2])"
      ],
      "execution_count": 4,
      "outputs": [
        {
          "output_type": "display_data",
          "data": {
            "image/png": "[encoded data removed]",
            "text/plain": [
              "<Figure size 432x288 with 2 Axes>"
            ]
          },
          "metadata": {
            "tags": [],
            "needs_background": "light"
          }
        }
      ]
    },
    {
      "cell_type": "code",
      "metadata": {
        "colab": {
          "base_uri": "https://localhost:8080/",
          "height": 350
        },
        "id": "Kvl9iOXgNGfn",
        "outputId": "ac486c98-59ba-4414-d6f9-3d5479b6930b"
      },
      "source": [
        "ax1.plot(x,y)\n",
        "ax1.set_xlabel('x')\n",
        "ax1.set_ylabel('y')\n",
        "\n",
        "ax2.plot(x,y)\n",
        "ax2.set_xlabel('x')\n",
        "ax2.set_ylabel('y')\n",
        "\n",
        "fig # Show figure object"
      ],
      "execution_count": 5,
      "outputs": [
        {
          "output_type": "execute_result",
          "data": {
            "image/png": "[encoded data removed]",
            "text/plain": [
              "<Figure size 432x288 with 2 Axes>"
            ]
          },
          "metadata": {
            "tags": []
          },
          "execution_count": 5
        }
      ]
    },
    {
      "cell_type": "code",
      "metadata": {
        "colab": {
          "base_uri": "https://localhost:8080/",
          "height": 340
        },
        "id": "QEo2lz88NJfh",
        "outputId": "eda29eb8-ec66-4b5c-8852-7c6ccf78b265"
      },
      "source": [
        "fig = plt.figure()\n",
        "\n",
        "ax = fig.add_axes([0,0,1,1])\n",
        "ax2 = fig.add_axes([0.2,0.5,.4,.4])"
      ],
      "execution_count": 6,
      "outputs": [
        {
          "output_type": "display_data",
          "data": {
            "image/png": "[encoded data removed]",
            "text/plain": [
              "<Figure size 432x288 with 2 Axes>"
            ]
          },
          "metadata": {
            "tags": [],
            "needs_background": "light"
          }
        }
      ]
    },
    {
      "cell_type": "code",
      "metadata": {
        "colab": {
          "base_uri": "https://localhost:8080/",
          "height": 350
        },
        "id": "rc9WUkCcNa0Y",
        "outputId": "784ba270-fa9a-4ef0-c22d-2167042345f2"
      },
      "source": [
        "ax.plot(x,z)\n",
        "ax.set_xlabel('X')\n",
        "ax.set_ylabel('Z')\n",
        "\n",
        "\n",
        "ax2.plot(x,y)\n",
        "ax2.set_xlabel('X')\n",
        "ax2.set_ylabel('Y')\n",
        "ax2.set_title('zoom')\n",
        "ax2.set_xlim(20,22)\n",
        "ax2.set_ylim(30,50)\n",
        "\n",
        "fig"
      ],
      "execution_count": 7,
      "outputs": [
        {
          "output_type": "execute_result",
          "data": {
            "image/png": "[encoded data removed]",
            "text/plain": [
              "<Figure size 432x288 with 2 Axes>"
            ]
          },
          "metadata": {
            "tags": []
          },
          "execution_count": 7
        }
      ]
    },
    {
      "cell_type": "code",
      "metadata": {
        "colab": {
          "base_uri": "https://localhost:8080/",
          "height": 269
        },
        "id": "a2t5DJvXNrv1",
        "outputId": "06d691a5-3dbc-41b9-f3f0-5206220cb75e"
      },
      "source": [
        "# Empty canvas of 1 by 2 subplots\n",
        "fig, axes = plt.subplots(nrows=1, ncols=2)"
      ],
      "execution_count": 8,
      "outputs": [
        {
          "output_type": "display_data",
          "data": {
            "image/png": "[encoded data removed]",
            "text/plain": [
              "<Figure size 432x288 with 2 Axes>"
            ]
          },
          "metadata": {
            "tags": [],
            "needs_background": "light"
          }
        }
      ]
    },
    {
      "cell_type": "code",
      "metadata": {
        "colab": {
          "base_uri": "https://localhost:8080/",
          "height": 265
        },
        "id": "b_iWYGeINzLE",
        "outputId": "bce4cf44-679d-4d7e-d721-41fdfb933d01"
      },
      "source": [
        "axes[0].plot(x,y,color=\"blue\", lw=3, ls='--')\n",
        "axes[1].plot(x,z,color=\"red\", lw=3, ls='-')\n",
        "fig"
      ],
      "execution_count": 9,
      "outputs": [
        {
          "output_type": "execute_result",
          "data": {
            "image/png": "[encoded data removed]",
            "text/plain": [
              "<Figure size 432x288 with 2 Axes>"
            ]
          },
          "metadata": {
            "tags": []
          },
          "execution_count": 9
        }
      ]
    },
    {
      "cell_type": "code",
      "metadata": {
        "colab": {
          "base_uri": "https://localhost:8080/",
          "height": 189
        },
        "id": "MLm1uuKbN55N",
        "outputId": "9d625325-e3eb-452f-c019-d54bbc4e1666"
      },
      "source": [
        "fig, axes = plt.subplots(nrows=1, ncols=2,figsize=(12,2))\n",
        "\n",
        "axes[0].plot(x,y,color=\"blue\", lw=5)\n",
        "axes[0].set_xlabel('x')\n",
        "axes[0].set_ylabel('y')\n",
        "\n",
        "axes[1].plot(x,z,color=\"red\", lw=3, ls='--')\n",
        "axes[1].set_xlabel('x')\n",
        "axes[1].set_ylabel('z')"
      ],
      "execution_count": 10,
      "outputs": [
        {
          "output_type": "execute_result",
          "data": {
            "text/plain": [
              "Text(0, 0.5, 'z')"
            ]
          },
          "metadata": {
            "tags": []
          },
          "execution_count": 10
        },
        {
          "output_type": "display_data",
          "data": {
            "image/png": "[encoded data removed]",
            "text/plain": [
              "<Figure size 864x144 with 2 Axes>"
            ]
          },
          "metadata": {
            "tags": [],
            "needs_background": "light"
          }
        }
      ]
    },
    {
      "cell_type": "code",
      "metadata": {
        "id": "P-jZYQQdN-Zq"
      },
      "source": [
        ""
      ],
      "execution_count": null,
      "outputs": []
    }
  ]
}